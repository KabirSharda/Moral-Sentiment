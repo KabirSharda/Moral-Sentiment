{
 "cells": [
  {
   "cell_type": "code",
   "execution_count": 170,
   "id": "59d56c8e-f534-45fa-9b32-966b3fa886c6",
   "metadata": {},
   "outputs": [],
   "source": [
    "import pandas as pd\n",
    "import numpy as np\n",
    "import seaborn as sns\n",
    "import matplotlib.pyplot as plt\n",
    "from sklearn.linear_model import LogisticRegression, LogisticRegressionCV, LinearRegression,Lasso,Ridge\n",
    "from sklearn.model_selection import KFold, GridSearchCV\n",
    "from sklearn.model_selection import cross_validate\n",
    "from sklearn.metrics import confusion_matrix, mean_squared_error,r2_score\n",
    "import sklearn.metrics as metrics\n",
    "from sklearn.preprocessing import StandardScaler,LabelEncoder,MinMaxScaler\n",
    "from scipy.stats import chi2_contingency, boxcox\n",
    "import scipy.stats as stats\n",
    "import sklearn.preprocessing as preprocessing\n",
    "from sklearn.svm import SVC\n",
    "from sklearn.naive_bayes import GaussianNB\n",
    "from sklearn.linear_model import LogisticRegression\n",
    "from sklearn.neighbors import KNeighborsClassifier\n",
    "from sklearn.tree import DecisionTreeClassifier\n",
    "from sklearn.ensemble import RandomForestClassifier, RandomForestRegressor\n",
    "from xgboost import XGBClassifier, XGBRFClassifier\n",
    "from xgboost import plot_tree, plot_importance\n",
    "from sklearn.ensemble import AdaBoostClassifier\n",
    "import statsmodels.api as sm\n",
    "\n",
    "from sklearn.metrics import confusion_matrix, accuracy_score, roc_auc_score, roc_curve\n",
    "from sklearn import preprocessing\n",
    "from sklearn.model_selection import train_test_split\n",
    "from sklearn.feature_selection import RFE\n",
    "\n",
    "from statsmodels.tsa.stattools import adfuller as adf\n",
    "from statsmodels.tsa.seasonal import seasonal_decompose"
   ]
  },
  {
   "cell_type": "code",
   "execution_count": 171,
   "id": "2f50b2a0-047e-4593-98c9-fd81c8314449",
   "metadata": {},
   "outputs": [],
   "source": [
    "df = pd.read_csv('dataset/moral.data')"
   ]
  },
  {
   "cell_type": "code",
   "execution_count": 172,
   "id": "7a462b65-9ad3-4e7f-b770-1571a1a4a6d1",
   "metadata": {},
   "outputs": [
    {
     "data": {
      "text/html": [
       "<div>\n",
       "<style scoped>\n",
       "    .dataframe tbody tr th:only-of-type {\n",
       "        vertical-align: middle;\n",
       "    }\n",
       "\n",
       "    .dataframe tbody tr th {\n",
       "        vertical-align: top;\n",
       "    }\n",
       "\n",
       "    .dataframe thead th {\n",
       "        text-align: right;\n",
       "    }\n",
       "</style>\n",
       "<table border=\"1\" class=\"dataframe\">\n",
       "  <thead>\n",
       "    <tr style=\"text-align: right;\">\n",
       "      <th></th>\n",
       "      <th>guilty(p0).</th>\n",
       "    </tr>\n",
       "  </thead>\n",
       "  <tbody>\n",
       "    <tr>\n",
       "      <th>sufficient_for_harm(p0</th>\n",
       "      <td>n).</td>\n",
       "    </tr>\n",
       "    <tr>\n",
       "      <th>produce_harm(p0</th>\n",
       "      <td>y).</td>\n",
       "    </tr>\n",
       "    <tr>\n",
       "      <th>plan_known(p0</th>\n",
       "      <td>y).</td>\n",
       "    </tr>\n",
       "    <tr>\n",
       "      <th>plan_include_harm(p0</th>\n",
       "      <td>y).</td>\n",
       "    </tr>\n",
       "    <tr>\n",
       "      <th>someone_else_cause_harm(p0</th>\n",
       "      <td>n).</td>\n",
       "    </tr>\n",
       "    <tr>\n",
       "      <th>outrank_perpetrator(p0</th>\n",
       "      <td>n).</td>\n",
       "    </tr>\n",
       "    <tr>\n",
       "      <th>monitor(p0</th>\n",
       "      <td>y).</td>\n",
       "    </tr>\n",
       "    <tr>\n",
       "      <th>harm_caused_as_planned(p0</th>\n",
       "      <td>y).</td>\n",
       "    </tr>\n",
       "    <tr>\n",
       "      <th>goal_outweigh_harm(p0</th>\n",
       "      <td>y).</td>\n",
       "    </tr>\n",
       "    <tr>\n",
       "      <th>goal_achieveable_less_harmful(p0</th>\n",
       "      <td>n).</td>\n",
       "    </tr>\n",
       "    <tr>\n",
       "      <th>foresee_intervention(p0</th>\n",
       "      <td>y).</td>\n",
       "    </tr>\n",
       "    <tr>\n",
       "      <th>external_cause(p0</th>\n",
       "      <td>n).</td>\n",
       "    </tr>\n",
       "    <tr>\n",
       "      <th>control_perpetrator(p0</th>\n",
       "      <td>y).</td>\n",
       "    </tr>\n",
       "    <tr>\n",
       "      <th>benefit_protagonist(p0</th>\n",
       "      <td>y).</td>\n",
       "    </tr>\n",
       "    <tr>\n",
       "      <th>careful(p0</th>\n",
       "      <td>y).</td>\n",
       "    </tr>\n",
       "    <tr>\n",
       "      <th>benefit_victim(p0</th>\n",
       "      <td>0).</td>\n",
       "    </tr>\n",
       "    <tr>\n",
       "      <th>severity_harm(p0</th>\n",
       "      <td>1).</td>\n",
       "    </tr>\n",
       "    <tr>\n",
       "      <th>achieve_goal(p0</th>\n",
       "      <td>n).</td>\n",
       "    </tr>\n",
       "    <tr>\n",
       "      <th>intervening_contribution(p0</th>\n",
       "      <td>n).</td>\n",
       "    </tr>\n",
       "    <tr>\n",
       "      <th>foreseeability(p0</th>\n",
       "      <td>high).</td>\n",
       "    </tr>\n",
       "    <tr>\n",
       "      <th>external_force(p0</th>\n",
       "      <td>n).</td>\n",
       "    </tr>\n",
       "    <tr>\n",
       "      <th>mental_state(p0</th>\n",
       "      <td>negligent).</td>\n",
       "    </tr>\n",
       "    <tr>\n",
       "      <th>necessary_for_harm(p0</th>\n",
       "      <td>y).</td>\n",
       "    </tr>\n",
       "    <tr>\n",
       "      <th>guilty(p1).</th>\n",
       "      <td>NaN</td>\n",
       "    </tr>\n",
       "    <tr>\n",
       "      <th>produce_harm(p1</th>\n",
       "      <td>n).</td>\n",
       "    </tr>\n",
       "    <tr>\n",
       "      <th>plan_known(p1</th>\n",
       "      <td>n).</td>\n",
       "    </tr>\n",
       "    <tr>\n",
       "      <th>plan_include_harm(p1</th>\n",
       "      <td>n).</td>\n",
       "    </tr>\n",
       "    <tr>\n",
       "      <th>someone_else_cause_harm(p1</th>\n",
       "      <td>n).</td>\n",
       "    </tr>\n",
       "    <tr>\n",
       "      <th>outrank_perpetrator(p1</th>\n",
       "      <td>y).</td>\n",
       "    </tr>\n",
       "    <tr>\n",
       "      <th>necessary_for_harm(p1</th>\n",
       "      <td>n).</td>\n",
       "    </tr>\n",
       "    <tr>\n",
       "      <th>monitor(p1</th>\n",
       "      <td>y).</td>\n",
       "    </tr>\n",
       "    <tr>\n",
       "      <th>intervening_contribution(p1</th>\n",
       "      <td>n).</td>\n",
       "    </tr>\n",
       "    <tr>\n",
       "      <th>harm_caused_as_planned(p1</th>\n",
       "      <td>y).</td>\n",
       "    </tr>\n",
       "    <tr>\n",
       "      <th>goal_outweigh_harm(p1</th>\n",
       "      <td>n).</td>\n",
       "    </tr>\n",
       "    <tr>\n",
       "      <th>goal_achieveable_less_harmful(p1</th>\n",
       "      <td>y).</td>\n",
       "    </tr>\n",
       "    <tr>\n",
       "      <th>external_cause(p1</th>\n",
       "      <td>n).</td>\n",
       "    </tr>\n",
       "    <tr>\n",
       "      <th>control_perpetrator(p1</th>\n",
       "      <td>y).</td>\n",
       "    </tr>\n",
       "    <tr>\n",
       "      <th>benefit_protagonist(p1</th>\n",
       "      <td>y).</td>\n",
       "    </tr>\n",
       "    <tr>\n",
       "      <th>careful(p1</th>\n",
       "      <td>n).</td>\n",
       "    </tr>\n",
       "    <tr>\n",
       "      <th>benefit_victim(p1</th>\n",
       "      <td>0).</td>\n",
       "    </tr>\n",
       "  </tbody>\n",
       "</table>\n",
       "</div>"
      ],
      "text/plain": [
       "                                  guilty(p0).\n",
       "sufficient_for_harm(p0                    n).\n",
       "produce_harm(p0                           y).\n",
       "plan_known(p0                             y).\n",
       "plan_include_harm(p0                      y).\n",
       "someone_else_cause_harm(p0                n).\n",
       "outrank_perpetrator(p0                    n).\n",
       "monitor(p0                                y).\n",
       "harm_caused_as_planned(p0                 y).\n",
       "goal_outweigh_harm(p0                     y).\n",
       "goal_achieveable_less_harmful(p0          n).\n",
       "foresee_intervention(p0                   y).\n",
       "external_cause(p0                         n).\n",
       "control_perpetrator(p0                    y).\n",
       "benefit_protagonist(p0                    y).\n",
       "careful(p0                                y).\n",
       "benefit_victim(p0                         0).\n",
       "severity_harm(p0                          1).\n",
       "achieve_goal(p0                           n).\n",
       "intervening_contribution(p0               n).\n",
       "foreseeability(p0                      high).\n",
       "external_force(p0                         n).\n",
       "mental_state(p0                   negligent).\n",
       "necessary_for_harm(p0                     y).\n",
       "guilty(p1).                               NaN\n",
       "produce_harm(p1                           n).\n",
       "plan_known(p1                             n).\n",
       "plan_include_harm(p1                      n).\n",
       "someone_else_cause_harm(p1                n).\n",
       "outrank_perpetrator(p1                    y).\n",
       "necessary_for_harm(p1                     n).\n",
       "monitor(p1                                y).\n",
       "intervening_contribution(p1               n).\n",
       "harm_caused_as_planned(p1                 y).\n",
       "goal_outweigh_harm(p1                     n).\n",
       "goal_achieveable_less_harmful(p1          y).\n",
       "external_cause(p1                         n).\n",
       "control_perpetrator(p1                    y).\n",
       "benefit_protagonist(p1                    y).\n",
       "careful(p1                                n).\n",
       "benefit_victim(p1                         0)."
      ]
     },
     "execution_count": 172,
     "metadata": {},
     "output_type": "execute_result"
    }
   ],
   "source": [
    "df.head(40)"
   ]
  },
  {
   "cell_type": "code",
   "execution_count": 173,
   "id": "9c5884b4-cb58-45c9-8e13-07c075b71ad5",
   "metadata": {},
   "outputs": [
    {
     "name": "stdout",
     "output_type": "stream",
     "text": [
      "guilty\n",
      "produce_harm\n",
      "plan_known\n",
      "plan_include_harm\n",
      "someone_else_cause_harm\n",
      "outrank_perpetrator\n",
      "necessary_for_harm\n",
      "monitor\n",
      "intervening_contribution\n",
      "harm_caused_as_planned\n",
      "goal_outweigh_harm\n",
      "goal_achieveable_less_harmful\n",
      "external_cause\n",
      "control_perpetrator\n",
      "benefit_protagonist\n",
      "careful\n",
      "benefit_victim\n",
      "severity_harm\n",
      "achieve_goal\n",
      "foresee_intervention\n",
      "foreseeability\n",
      "external_force\n",
      "mental_state\n",
      "sufficient_for_harm\n"
     ]
    }
   ],
   "source": [
    "a = df.iloc[23:47].index.str.split('(')\n",
    "b = pd.Series('a')\n",
    "for j,i in enumerate(a):\n",
    "    print (i[0])\n",
    "    b[j] = i[0]"
   ]
  },
  {
   "cell_type": "code",
   "execution_count": 174,
   "id": "5e3a4af8-6139-4d61-8784-0fd5392a823f",
   "metadata": {},
   "outputs": [
    {
     "data": {
      "text/plain": [
       "0                            guilty\n",
       "1                      produce_harm\n",
       "2                        plan_known\n",
       "3                 plan_include_harm\n",
       "4           someone_else_cause_harm\n",
       "5               outrank_perpetrator\n",
       "6                necessary_for_harm\n",
       "7                           monitor\n",
       "8          intervening_contribution\n",
       "9            harm_caused_as_planned\n",
       "10               goal_outweigh_harm\n",
       "11    goal_achieveable_less_harmful\n",
       "12                   external_cause\n",
       "13              control_perpetrator\n",
       "14              benefit_protagonist\n",
       "15                          careful\n",
       "16                   benefit_victim\n",
       "17                    severity_harm\n",
       "18                     achieve_goal\n",
       "19             foresee_intervention\n",
       "20                   foreseeability\n",
       "21                   external_force\n",
       "22                     mental_state\n",
       "23              sufficient_for_harm\n",
       "dtype: object"
      ]
     },
     "execution_count": 174,
     "metadata": {},
     "output_type": "execute_result"
    }
   ],
   "source": [
    "b"
   ]
  },
  {
   "cell_type": "code",
   "execution_count": 175,
   "id": "15d7ea27-e59e-4a0f-8369-6c018c414a15",
   "metadata": {},
   "outputs": [],
   "source": [
    "d = pd.DataFrame(columns=b)"
   ]
  },
  {
   "cell_type": "code",
   "execution_count": 176,
   "id": "abe7ae89-e518-4522-a31f-d0364723de45",
   "metadata": {},
   "outputs": [
    {
     "data": {
      "text/html": [
       "<div>\n",
       "<style scoped>\n",
       "    .dataframe tbody tr th:only-of-type {\n",
       "        vertical-align: middle;\n",
       "    }\n",
       "\n",
       "    .dataframe tbody tr th {\n",
       "        vertical-align: top;\n",
       "    }\n",
       "\n",
       "    .dataframe thead th {\n",
       "        text-align: right;\n",
       "    }\n",
       "</style>\n",
       "<table border=\"1\" class=\"dataframe\">\n",
       "  <thead>\n",
       "    <tr style=\"text-align: right;\">\n",
       "      <th></th>\n",
       "      <th>guilty</th>\n",
       "      <th>produce_harm</th>\n",
       "      <th>plan_known</th>\n",
       "      <th>plan_include_harm</th>\n",
       "      <th>someone_else_cause_harm</th>\n",
       "      <th>outrank_perpetrator</th>\n",
       "      <th>necessary_for_harm</th>\n",
       "      <th>monitor</th>\n",
       "      <th>intervening_contribution</th>\n",
       "      <th>harm_caused_as_planned</th>\n",
       "      <th>...</th>\n",
       "      <th>benefit_protagonist</th>\n",
       "      <th>careful</th>\n",
       "      <th>benefit_victim</th>\n",
       "      <th>severity_harm</th>\n",
       "      <th>achieve_goal</th>\n",
       "      <th>foresee_intervention</th>\n",
       "      <th>foreseeability</th>\n",
       "      <th>external_force</th>\n",
       "      <th>mental_state</th>\n",
       "      <th>sufficient_for_harm</th>\n",
       "    </tr>\n",
       "  </thead>\n",
       "  <tbody>\n",
       "  </tbody>\n",
       "</table>\n",
       "<p>0 rows × 24 columns</p>\n",
       "</div>"
      ],
      "text/plain": [
       "Empty DataFrame\n",
       "Columns: [guilty, produce_harm, plan_known, plan_include_harm, someone_else_cause_harm, outrank_perpetrator, necessary_for_harm, monitor, intervening_contribution, harm_caused_as_planned, goal_outweigh_harm, goal_achieveable_less_harmful, external_cause, control_perpetrator, benefit_protagonist, careful, benefit_victim, severity_harm, achieve_goal, foresee_intervention, foreseeability, external_force, mental_state, sufficient_for_harm]\n",
       "Index: []\n",
       "\n",
       "[0 rows x 24 columns]"
      ]
     },
     "execution_count": 176,
     "metadata": {},
     "output_type": "execute_result"
    }
   ],
   "source": [
    "d"
   ]
  },
  {
   "cell_type": "code",
   "execution_count": 177,
   "id": "592d2d89-608d-45e0-b064-faba55a91816",
   "metadata": {},
   "outputs": [
    {
     "data": {
      "text/plain": [
       "202"
      ]
     },
     "execution_count": 177,
     "metadata": {},
     "output_type": "execute_result"
    }
   ],
   "source": [
    "p = np.arange(0,202*25,25)\n",
    "len(p)"
   ]
  },
  {
   "cell_type": "code",
   "execution_count": 178,
   "id": "a0f6ad18-1190-4326-9734-be52d92dfd3f",
   "metadata": {},
   "outputs": [],
   "source": [
    "d['notGuilty'] = ''"
   ]
  },
  {
   "cell_type": "code",
   "execution_count": 179,
   "id": "4572db3b-2d42-4e8b-b66e-3c39bea427e5",
   "metadata": {},
   "outputs": [
    {
     "data": {
      "text/plain": [
       "guilty(p0).    negligent).\n",
       "Name: mental_state(p1, dtype: object"
      ]
     },
     "execution_count": 179,
     "metadata": {},
     "output_type": "execute_result"
    }
   ],
   "source": [
    "df.iloc[45]"
   ]
  },
  {
   "cell_type": "code",
   "execution_count": 180,
   "id": "cc7dbd28-bc63-4cc1-a988-08d4d400ec21",
   "metadata": {},
   "outputs": [],
   "source": [
    "f = d.copy(deep=True)\n",
    "ind = 0\n",
    "Dict = {}\n",
    "for j in f.columns:\n",
    "    Dict[j] = []\n",
    "Dict['not'] = []\n",
    "for i in range(len(df)):\n",
    "    nam = df.iloc[i].name.split('(')[0]\n",
    "    Dict[nam].append(df.iloc[i].values)\n",
    "Dict['guilty'].append(np.nan)"
   ]
  },
  {
   "cell_type": "code",
   "execution_count": 190,
   "id": "d4a01f04-9807-4eda-a88a-fd478e9115ce",
   "metadata": {},
   "outputs": [
    {
     "name": "stdout",
     "output_type": "stream",
     "text": [
      "produce_harm\n",
      "202\n",
      "plan_known\n",
      "202\n",
      "plan_include_harm\n",
      "202\n",
      "someone_else_cause_harm\n",
      "202\n",
      "outrank_perpetrator\n",
      "202\n",
      "necessary_for_harm\n",
      "202\n",
      "monitor\n",
      "202\n",
      "intervening_contribution\n",
      "202\n",
      "harm_caused_as_planned\n",
      "202\n",
      "goal_outweigh_harm\n",
      "202\n",
      "goal_achieveable_less_harmful\n",
      "202\n",
      "external_cause\n",
      "202\n",
      "control_perpetrator\n",
      "202\n",
      "benefit_protagonist\n",
      "202\n",
      "careful\n",
      "202\n",
      "benefit_victim\n",
      "202\n",
      "severity_harm\n",
      "202\n",
      "achieve_goal\n",
      "202\n",
      "foresee_intervention\n",
      "202\n",
      "foreseeability\n",
      "202\n",
      "external_force\n",
      "202\n",
      "mental_state\n",
      "202\n",
      "sufficient_for_harm\n",
      "202\n",
      "not\n",
      "100\n"
     ]
    }
   ],
   "source": [
    "for i in Dict:\n",
    "    print(i)\n",
    "    print(len(Dict[i]))"
   ]
  },
  {
   "cell_type": "code",
   "execution_count": 183,
   "id": "6f42e87e-b0eb-4a9c-9325-326b1245e651",
   "metadata": {},
   "outputs": [],
   "source": [
    "del Dict['guilty']\n",
    "del Dict['notGuilty']"
   ]
  },
  {
   "cell_type": "code",
   "execution_count": 191,
   "id": "62adba9b-ec28-48dc-9d74-f26acc76a0c9",
   "metadata": {},
   "outputs": [],
   "source": [
    "del Dict['not']"
   ]
  },
  {
   "cell_type": "code",
   "execution_count": 193,
   "id": "2285f0aa-82e7-4eee-93c0-3982524e2c87",
   "metadata": {},
   "outputs": [],
   "source": [
    "f = pd.DataFrame.from_dict(Dict)"
   ]
  },
  {
   "cell_type": "code",
   "execution_count": 136,
   "id": "ddfaee9f-7d7a-42c7-a2fb-79da0321ffe1",
   "metadata": {},
   "outputs": [
    {
     "name": "stderr",
     "output_type": "stream",
     "text": [
      "<ipython-input-136-e6257c31f433>:4: DeprecationWarning: The default dtype for empty Series will be 'object' instead of 'float64' in a future version. Specify a dtype explicitly to silence this warning.\n",
      "  m = pd.Series()\n"
     ]
    }
   ],
   "source": [
    "for j in d.columns:\n",
    "    m = j\n",
    "    m = m+'ks'\n",
    "    "
   ]
  },
  {
   "cell_type": "code",
   "execution_count": 194,
   "id": "6975905c-963f-4c24-8560-8cb842807f81",
   "metadata": {},
   "outputs": [
    {
     "data": {
      "text/html": [
       "<div>\n",
       "<style scoped>\n",
       "    .dataframe tbody tr th:only-of-type {\n",
       "        vertical-align: middle;\n",
       "    }\n",
       "\n",
       "    .dataframe tbody tr th {\n",
       "        vertical-align: top;\n",
       "    }\n",
       "\n",
       "    .dataframe thead th {\n",
       "        text-align: right;\n",
       "    }\n",
       "</style>\n",
       "<table border=\"1\" class=\"dataframe\">\n",
       "  <thead>\n",
       "    <tr style=\"text-align: right;\">\n",
       "      <th></th>\n",
       "      <th>produce_harm</th>\n",
       "      <th>plan_known</th>\n",
       "      <th>plan_include_harm</th>\n",
       "      <th>someone_else_cause_harm</th>\n",
       "      <th>outrank_perpetrator</th>\n",
       "      <th>necessary_for_harm</th>\n",
       "      <th>monitor</th>\n",
       "      <th>intervening_contribution</th>\n",
       "      <th>harm_caused_as_planned</th>\n",
       "      <th>goal_outweigh_harm</th>\n",
       "      <th>...</th>\n",
       "      <th>benefit_protagonist</th>\n",
       "      <th>careful</th>\n",
       "      <th>benefit_victim</th>\n",
       "      <th>severity_harm</th>\n",
       "      <th>achieve_goal</th>\n",
       "      <th>foresee_intervention</th>\n",
       "      <th>foreseeability</th>\n",
       "      <th>external_force</th>\n",
       "      <th>mental_state</th>\n",
       "      <th>sufficient_for_harm</th>\n",
       "    </tr>\n",
       "  </thead>\n",
       "  <tbody>\n",
       "    <tr>\n",
       "      <th>0</th>\n",
       "      <td>[y).]</td>\n",
       "      <td>[y).]</td>\n",
       "      <td>[y).]</td>\n",
       "      <td>[n).]</td>\n",
       "      <td>[n).]</td>\n",
       "      <td>[y).]</td>\n",
       "      <td>[y).]</td>\n",
       "      <td>[n).]</td>\n",
       "      <td>[y).]</td>\n",
       "      <td>[y).]</td>\n",
       "      <td>...</td>\n",
       "      <td>[y).]</td>\n",
       "      <td>[y).]</td>\n",
       "      <td>[0).]</td>\n",
       "      <td>[1).]</td>\n",
       "      <td>[n).]</td>\n",
       "      <td>[y).]</td>\n",
       "      <td>[high).]</td>\n",
       "      <td>[n).]</td>\n",
       "      <td>[negligent).]</td>\n",
       "      <td>[n).]</td>\n",
       "    </tr>\n",
       "    <tr>\n",
       "      <th>1</th>\n",
       "      <td>[n).]</td>\n",
       "      <td>[n).]</td>\n",
       "      <td>[n).]</td>\n",
       "      <td>[n).]</td>\n",
       "      <td>[y).]</td>\n",
       "      <td>[n).]</td>\n",
       "      <td>[y).]</td>\n",
       "      <td>[n).]</td>\n",
       "      <td>[y).]</td>\n",
       "      <td>[n).]</td>\n",
       "      <td>...</td>\n",
       "      <td>[y).]</td>\n",
       "      <td>[n).]</td>\n",
       "      <td>[0).]</td>\n",
       "      <td>[1).]</td>\n",
       "      <td>[n).]</td>\n",
       "      <td>[y).]</td>\n",
       "      <td>[high).]</td>\n",
       "      <td>[n).]</td>\n",
       "      <td>[negligent).]</td>\n",
       "      <td>[y).]</td>\n",
       "    </tr>\n",
       "    <tr>\n",
       "      <th>2</th>\n",
       "      <td>[y).]</td>\n",
       "      <td>[n).]</td>\n",
       "      <td>[n).]</td>\n",
       "      <td>[n).]</td>\n",
       "      <td>[y).]</td>\n",
       "      <td>[y).]</td>\n",
       "      <td>[y).]</td>\n",
       "      <td>[n).]</td>\n",
       "      <td>[y).]</td>\n",
       "      <td>[y).]</td>\n",
       "      <td>...</td>\n",
       "      <td>[y).]</td>\n",
       "      <td>[n).]</td>\n",
       "      <td>[0).]</td>\n",
       "      <td>[1).]</td>\n",
       "      <td>[n).]</td>\n",
       "      <td>[n).]</td>\n",
       "      <td>[high).]</td>\n",
       "      <td>[n).]</td>\n",
       "      <td>[negligent).]</td>\n",
       "      <td>[y).]</td>\n",
       "    </tr>\n",
       "    <tr>\n",
       "      <th>3</th>\n",
       "      <td>[y).]</td>\n",
       "      <td>[y).]</td>\n",
       "      <td>[y).]</td>\n",
       "      <td>[n).]</td>\n",
       "      <td>[y).]</td>\n",
       "      <td>[y).]</td>\n",
       "      <td>[y).]</td>\n",
       "      <td>[n).]</td>\n",
       "      <td>[y).]</td>\n",
       "      <td>[y).]</td>\n",
       "      <td>...</td>\n",
       "      <td>[y).]</td>\n",
       "      <td>[n).]</td>\n",
       "      <td>[0).]</td>\n",
       "      <td>[1).]</td>\n",
       "      <td>[n).]</td>\n",
       "      <td>[y).]</td>\n",
       "      <td>[high).]</td>\n",
       "      <td>[n).]</td>\n",
       "      <td>[negligent).]</td>\n",
       "      <td>[y).]</td>\n",
       "    </tr>\n",
       "    <tr>\n",
       "      <th>4</th>\n",
       "      <td>[y).]</td>\n",
       "      <td>[y).]</td>\n",
       "      <td>[n).]</td>\n",
       "      <td>[n).]</td>\n",
       "      <td>[y).]</td>\n",
       "      <td>[n).]</td>\n",
       "      <td>[y).]</td>\n",
       "      <td>[n).]</td>\n",
       "      <td>[n).]</td>\n",
       "      <td>[n).]</td>\n",
       "      <td>...</td>\n",
       "      <td>[n).]</td>\n",
       "      <td>[y).]</td>\n",
       "      <td>[0).]</td>\n",
       "      <td>[1).]</td>\n",
       "      <td>[n).]</td>\n",
       "      <td>[y).]</td>\n",
       "      <td>[high).]</td>\n",
       "      <td>[n).]</td>\n",
       "      <td>[negligent).]</td>\n",
       "      <td>[y).]</td>\n",
       "    </tr>\n",
       "  </tbody>\n",
       "</table>\n",
       "<p>5 rows × 23 columns</p>\n",
       "</div>"
      ],
      "text/plain": [
       "  produce_harm plan_known plan_include_harm someone_else_cause_harm  \\\n",
       "0        [y).]      [y).]             [y).]                   [n).]   \n",
       "1        [n).]      [n).]             [n).]                   [n).]   \n",
       "2        [y).]      [n).]             [n).]                   [n).]   \n",
       "3        [y).]      [y).]             [y).]                   [n).]   \n",
       "4        [y).]      [y).]             [n).]                   [n).]   \n",
       "\n",
       "  outrank_perpetrator necessary_for_harm monitor intervening_contribution  \\\n",
       "0               [n).]              [y).]   [y).]                    [n).]   \n",
       "1               [y).]              [n).]   [y).]                    [n).]   \n",
       "2               [y).]              [y).]   [y).]                    [n).]   \n",
       "3               [y).]              [y).]   [y).]                    [n).]   \n",
       "4               [y).]              [n).]   [y).]                    [n).]   \n",
       "\n",
       "  harm_caused_as_planned goal_outweigh_harm  ... benefit_protagonist careful  \\\n",
       "0                  [y).]              [y).]  ...               [y).]   [y).]   \n",
       "1                  [y).]              [n).]  ...               [y).]   [n).]   \n",
       "2                  [y).]              [y).]  ...               [y).]   [n).]   \n",
       "3                  [y).]              [y).]  ...               [y).]   [n).]   \n",
       "4                  [n).]              [n).]  ...               [n).]   [y).]   \n",
       "\n",
       "  benefit_victim severity_harm achieve_goal foresee_intervention  \\\n",
       "0          [0).]         [1).]        [n).]                [y).]   \n",
       "1          [0).]         [1).]        [n).]                [y).]   \n",
       "2          [0).]         [1).]        [n).]                [n).]   \n",
       "3          [0).]         [1).]        [n).]                [y).]   \n",
       "4          [0).]         [1).]        [n).]                [y).]   \n",
       "\n",
       "  foreseeability external_force   mental_state sufficient_for_harm  \n",
       "0       [high).]          [n).]  [negligent).]               [n).]  \n",
       "1       [high).]          [n).]  [negligent).]               [y).]  \n",
       "2       [high).]          [n).]  [negligent).]               [y).]  \n",
       "3       [high).]          [n).]  [negligent).]               [y).]  \n",
       "4       [high).]          [n).]  [negligent).]               [y).]  \n",
       "\n",
       "[5 rows x 23 columns]"
      ]
     },
     "execution_count": 194,
     "metadata": {},
     "output_type": "execute_result"
    }
   ],
   "source": [
    "f.head()"
   ]
  },
  {
   "cell_type": "code",
   "execution_count": 203,
   "id": "fade0955-dd1f-4716-96a7-38ae6c076300",
   "metadata": {},
   "outputs": [],
   "source": [
    "for i in f.columns:\n",
    "    f[i] = f[i].astype(str)\n",
    "    f[i] = f[i].apply(lambda x: x.split(')')[0][-1])"
   ]
  },
  {
   "cell_type": "code",
   "execution_count": 205,
   "id": "6e933465-af2a-48d0-b113-8b388c76a868",
   "metadata": {},
   "outputs": [
    {
     "data": {
      "text/plain": [
       "produce_harm                     n\n",
       "plan_known                       y\n",
       "plan_include_harm                n\n",
       "someone_else_cause_harm          y\n",
       "outrank_perpetrator              y\n",
       "necessary_for_harm               y\n",
       "monitor                          n\n",
       "intervening_contribution         n\n",
       "harm_caused_as_planned           n\n",
       "goal_outweigh_harm               n\n",
       "goal_achieveable_less_harmful    y\n",
       "external_cause                   y\n",
       "control_perpetrator              y\n",
       "benefit_protagonist              y\n",
       "careful                          n\n",
       "benefit_victim                   0\n",
       "severity_harm                    1\n",
       "achieve_goal                     n\n",
       "foresee_intervention             n\n",
       "foreseeability                   w\n",
       "external_force                   y\n",
       "mental_state                     t\n",
       "sufficient_for_harm              y\n",
       "Name: 101, dtype: object"
      ]
     },
     "execution_count": 205,
     "metadata": {},
     "output_type": "execute_result"
    }
   ],
   "source": [
    "f.iloc[101]"
   ]
  },
  {
   "cell_type": "code",
   "execution_count": 207,
   "id": "a092f7dd-053f-4981-aa29-9e1e2c2592cf",
   "metadata": {},
   "outputs": [],
   "source": [
    "f['guilty'] = 1"
   ]
  },
  {
   "cell_type": "code",
   "execution_count": 208,
   "id": "3035d5f4-766c-49ff-bac2-41a15d0c18ed",
   "metadata": {},
   "outputs": [
    {
     "name": "stderr",
     "output_type": "stream",
     "text": [
      "/home/kabir/anaconda3/lib/python3.8/site-packages/pandas/core/indexing.py:1637: SettingWithCopyWarning: \n",
      "A value is trying to be set on a copy of a slice from a DataFrame\n",
      "\n",
      "See the caveats in the documentation: https://pandas.pydata.org/pandas-docs/stable/user_guide/indexing.html#returning-a-view-versus-a-copy\n",
      "  self._setitem_single_block(indexer, value, name)\n"
     ]
    }
   ],
   "source": [
    "f['guilty'].iloc[:102] = 0"
   ]
  },
  {
   "cell_type": "code",
   "execution_count": 210,
   "id": "856a887f-1143-4760-9de5-5a5f993c6b3d",
   "metadata": {},
   "outputs": [
    {
     "data": {
      "text/plain": [
       "0    102\n",
       "1    100\n",
       "Name: guilty, dtype: int64"
      ]
     },
     "execution_count": 210,
     "metadata": {},
     "output_type": "execute_result"
    }
   ],
   "source": [
    "f['guilty'].value_counts()"
   ]
  },
  {
   "cell_type": "code",
   "execution_count": 211,
   "id": "d22b204d-9faf-4e71-860c-107da015ad13",
   "metadata": {},
   "outputs": [],
   "source": [
    "dfCopy = f.copy(deep=True)"
   ]
  },
  {
   "cell_type": "code",
   "execution_count": 212,
   "id": "7f4f63cf-a2dc-4a89-a789-5adf4c1bec50",
   "metadata": {},
   "outputs": [],
   "source": [
    "dfCopy = pd.get_dummies(dfCopy)"
   ]
  },
  {
   "cell_type": "code",
   "execution_count": 213,
   "id": "8a8a525e-98d9-4ea0-a740-53ece080bd29",
   "metadata": {},
   "outputs": [],
   "source": [
    "logreg = LogisticRegression()"
   ]
  },
  {
   "cell_type": "code",
   "execution_count": 214,
   "id": "b952f596-0035-4db4-a5ff-ebc2adc5db73",
   "metadata": {},
   "outputs": [],
   "source": [
    "X = dfCopy.drop(columns='guilty')"
   ]
  },
  {
   "cell_type": "code",
   "execution_count": 215,
   "id": "a97e0e69-94e7-41b5-863c-96ca030882b0",
   "metadata": {},
   "outputs": [],
   "source": [
    "y = dfCopy['guilty']"
   ]
  },
  {
   "cell_type": "code",
   "execution_count": 219,
   "id": "b674aa52-637d-4816-a28d-6abad8c3110c",
   "metadata": {},
   "outputs": [],
   "source": [
    "score = cross_validate(logreg,X, y, scoring = ['accuracy'], cv = 5)"
   ]
  },
  {
   "cell_type": "code",
   "execution_count": 220,
   "id": "fca2c9f0-3807-4817-bf08-4e8afdb25bb5",
   "metadata": {},
   "outputs": [
    {
     "data": {
      "text/plain": [
       "{'fit_time': array([7.97191215e+00, 2.43377686e-02, 1.17661953e-02, 9.26399231e-03,\n",
       "        7.64966011e-03]),\n",
       " 'score_time': array([0.00928926, 0.00294399, 0.00197816, 0.00179815, 0.00182176]),\n",
       " 'test_accuracy': array([0.95121951, 0.95121951, 0.975     , 0.925     , 0.875     ])}"
      ]
     },
     "execution_count": 220,
     "metadata": {},
     "output_type": "execute_result"
    }
   ],
   "source": [
    "score"
   ]
  },
  {
   "cell_type": "code",
   "execution_count": null,
   "id": "dfd1e075-af99-4289-a47a-b8a6a1e9646a",
   "metadata": {},
   "outputs": [],
   "source": []
  }
 ],
 "metadata": {
  "kernelspec": {
   "display_name": "Python 3",
   "language": "python",
   "name": "python3"
  },
  "language_info": {
   "codemirror_mode": {
    "name": "ipython",
    "version": 3
   },
   "file_extension": ".py",
   "mimetype": "text/x-python",
   "name": "python",
   "nbconvert_exporter": "python",
   "pygments_lexer": "ipython3",
   "version": "3.8.8"
  }
 },
 "nbformat": 4,
 "nbformat_minor": 5
}
